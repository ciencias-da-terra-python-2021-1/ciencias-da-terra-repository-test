{
  "nbformat": 4,
  "nbformat_minor": 0,
  "metadata": {
    "colab": {
      "name": "Cópia de AndreCosta-atividade-3",
      "provenance": [],
      "collapsed_sections": [],
      "authorship_tag": "ABX9TyMrwg17y2/2aKtluepIlkd9",
      "include_colab_link": true
    },
    "kernelspec": {
      "name": "python3",
      "display_name": "Python 3"
    },
    "language_info": {
      "name": "python"
    }
  },
  "cells": [
    {
      "cell_type": "markdown",
      "metadata": {
        "id": "view-in-github",
        "colab_type": "text"
      },
      "source": [
        "<a href=\"https://colab.research.google.com/github/ciencias-da-terra-python-2021-1/ciencias-da-terra-repository-test/blob/main/C%C3%B3pia_de_AndreCosta_atividade_3.ipynb\" target=\"_parent\"><img src=\"https://colab.research.google.com/assets/colab-badge.svg\" alt=\"Open In Colab\"/></a>"
      ]
    },
    {
      "cell_type": "markdown",
      "metadata": {
        "id": "dX8LebqA3Ltv"
      },
      "source": [
        "1)\n",
        "# <center> **Atividade Pática 3** </center>\n",
        "<br></br>\n",
        "## **Autor**: Andre Costa\n",
        "\n",
        "EGG0080 - USO DE DADOS PARA CIÊNCIAS DA TERRA - 2021 / 1º\n",
        "\n",
        "Professor: Leonardo Guimaraes Miquelutti\n",
        "\n",
        "Rio de Janeiro, 27 de março de 2021\n",
        "\n",
        "\n"
      ]
    },
    {
      "cell_type": "markdown",
      "metadata": {
        "id": "6Qrpf5yD8roO"
      },
      "source": [
        "2) Importar as bibliotecas de Python:\n",
        "\n",
        "* os: para usar funcionalidades que são dependentes de sistema operacional\n",
        "* NumPy: para executar cálculos numéricos\n",
        "* Pandas: ferramentas para tratar estruturas de dados\n",
        "* MatPlotLib: para gerar gráficos\n",
        "  - Pyplot: coleção de funções que fazem o matplotlib plotar como o MATLAB\n",
        "* Urllib: coleção de módulos para trabalhar com URLs\n",
        "  - Request: módulo para abrir e ler URLs."
      ]
    },
    {
      "cell_type": "code",
      "metadata": {
        "id": "0005Orry_qcD",
        "colab": {
          "base_uri": "https://localhost:8080/"
        },
        "outputId": "0f08a630-88e7-4f1d-8408-75bd9aa6df82"
      },
      "source": [
        "# importar os pacotes necessários\n",
        "import os\n",
        "import urllib.request\n",
        "import pandas as pd\n",
        "import numpy as np\n",
        "import matplotlib.pyplot as plt\n",
        "\n",
        "# imprimir mensagem de sucesso na importação\n",
        "print(\"pacotes importados\")"
      ],
      "execution_count": null,
      "outputs": [
        {
          "output_type": "stream",
          "text": [
            "pacotes importados\n"
          ],
          "name": "stdout"
        }
      ]
    },
    {
      "cell_type": "markdown",
      "metadata": {
        "id": "n0Z3sTCYCi_y"
      },
      "source": [
        "3) Criar e imprimir uma lista das temperaturas médias mensais (Celsius) em Boulder, CO"
      ]
    },
    {
      "cell_type": "code",
      "metadata": {
        "colab": {
          "base_uri": "https://localhost:8080/"
        },
        "id": "L-G4EnZKDArq",
        "outputId": "3c23a7bb-98ec-4d3d-8b3f-2457580d9d74"
      },
      "source": [
        "# criar e imprimir uma lista de temperaturas mensais em graus celsius\n",
        "temp = [0.0, 2.0, 5.0, 9.56, 14.39, 21.72, 16.72, 11.61, 4.89, 0.99]\n",
        "temp"
      ],
      "execution_count": null,
      "outputs": [
        {
          "output_type": "execute_result",
          "data": {
            "text/plain": [
              "[0.0, 2.0, 5.0, 9.56, 14.39, 21.72, 16.72, 11.61, 4.89, 0.99]"
            ]
          },
          "metadata": {
            "tags": []
          },
          "execution_count": 33
        }
      ]
    },
    {
      "cell_type": "markdown",
      "metadata": {
        "id": "lHpihUAIDmQL"
      },
      "source": [
        "4) Inserir os valores 19.56 e 22.78 nas lista  de temperaturas \"temp\":\n",
        " \n",
        "1. Primeiro criar uma lista (addlst) com os valores que serão inseridos, na ordem em que eles vão aparecer na tabela\n",
        "1. Em seguida criar o índice de referência para a posição de inserção (pos)\n",
        "1. Criar um loop que vai ler a addlst, inserir a temperatura na posição pos, imprimir a lista temp e, se houver mais algum valor em addlst a ser inserido, adicionar uma unidade à pos"
      ]
    },
    {
      "cell_type": "code",
      "metadata": {
        "colab": {
          "base_uri": "https://localhost:8080/"
        },
        "id": "QdoF2uzvD6wp",
        "outputId": "a619741b-2626-4bc7-ee15-17e49c853726"
      },
      "source": [
        "# inserir 19.56 na quinta posição da lista e 22.78 na sexta posição\n",
        "# criar uma lista com os valores a serem inseridos\n",
        "addlst = [19.56, 22.78]\n",
        "\n",
        "# criar indice para inserção na tabela\n",
        "pos = 5\n",
        "\n",
        "# criar loop para inserção\n",
        "for i in addlst:\n",
        "  temp.insert(pos, i)\n",
        "  pos += 1\n",
        "  print(temp)"
      ],
      "execution_count": null,
      "outputs": [
        {
          "output_type": "stream",
          "text": [
            "[0.0, 2.0, 5.0, 9.56, 14.39, 19.56, 21.72, 16.72, 11.61, 4.89, 0.99]\n",
            "[0.0, 2.0, 5.0, 9.56, 14.39, 19.56, 22.78, 21.72, 16.72, 11.61, 4.89, 0.99]\n"
          ],
          "name": "stdout"
        }
      ]
    },
    {
      "cell_type": "markdown",
      "metadata": {
        "id": "iUgsRO09Kh12"
      },
      "source": [
        "5) Criar um array usando a função array() do NumPy com as temperaturas médias mensais da lista temp obtida ao final da questão anterior:\n",
        "  - Primeiro, adicionando os valores manualmente\n",
        "  - Depois, adicionando os valores a partir da tabela temp "
      ]
    },
    {
      "cell_type": "code",
      "metadata": {
        "colab": {
          "base_uri": "https://localhost:8080/"
        },
        "id": "Bbcm5y3QNPRh",
        "outputId": "153ac9f5-39a4-4d7c-c81b-eb70328f4759"
      },
      "source": [
        "# Criação manual do array temparray\n",
        "temparray = np.array([0., 2., 5., 9.56, 14.39, 19.56, 22.78, 21.72, 16.72, 11.61, 4.89, 0.99])\n",
        "temparray"
      ],
      "execution_count": null,
      "outputs": [
        {
          "output_type": "execute_result",
          "data": {
            "text/plain": [
              "array([ 0.  ,  2.  ,  5.  ,  9.56, 14.39, 19.56, 22.78, 21.72, 16.72,\n",
              "       11.61,  4.89,  0.99])"
            ]
          },
          "metadata": {
            "tags": []
          },
          "execution_count": 35
        }
      ]
    },
    {
      "cell_type": "code",
      "metadata": {
        "colab": {
          "base_uri": "https://localhost:8080/"
        },
        "id": "7W_g3tXQN5Mu",
        "outputId": "f99f16ae-f110-43bb-8ac6-f44f2244eaa2"
      },
      "source": [
        "# Criação do array temparray2 a partir da lsta temp\n",
        "temparray2 = np.array(temp)\n",
        "temparray2"
      ],
      "execution_count": null,
      "outputs": [
        {
          "output_type": "execute_result",
          "data": {
            "text/plain": [
              "array([ 0.  ,  2.  ,  5.  ,  9.56, 14.39, 19.56, 22.78, 21.72, 16.72,\n",
              "       11.61,  4.89,  0.99])"
            ]
          },
          "metadata": {
            "tags": []
          },
          "execution_count": 36
        }
      ]
    },
    {
      "cell_type": "markdown",
      "metadata": {
        "id": "H941k2ldQ6ZW"
      },
      "source": [
        "6) Fazer o download para o diretório data do arquivo texto avg-monthly-temp.txt, https://ndownloader.figshare.com/files/12732467, utilizando o módulo urllib.request. As etapas a serem seguidas são:\n",
        "1. verificar qual o diretório de trabalho.\n",
        "1. se ainda não for o /content, definí-lo como tal\n",
        "1. criar o diretório /data em /content\n",
        "1. baixar o arquivo para /data\n",
        "1. Ler o arquivo com a função loadtxt() do NumPy, uma vez que os dados são numéricos, para importá-lo para um array NumPy"
      ]
    },
    {
      "cell_type": "code",
      "metadata": {
        "colab": {
          "base_uri": "https://localhost:8080/",
          "height": 35
        },
        "id": "OXvX5pYnQ4Bo",
        "outputId": "68d628e3-6dbd-463b-efa8-11f6a2c22756"
      },
      "source": [
        "#verificar o diretório de trabalho\n",
        "os.getcwd()"
      ],
      "execution_count": null,
      "outputs": [
        {
          "output_type": "execute_result",
          "data": {
            "application/vnd.google.colaboratory.intrinsic+json": {
              "type": "string"
            },
            "text/plain": [
              "'/content'"
            ]
          },
          "metadata": {
            "tags": []
          },
          "execution_count": 41
        }
      ]
    },
    {
      "cell_type": "code",
      "metadata": {
        "id": "xwtMPK6jUhEY"
      },
      "source": [
        "#criar o diretório data em /content\n",
        "os.mkdir('data')"
      ],
      "execution_count": null,
      "outputs": []
    },
    {
      "cell_type": "code",
      "metadata": {
        "colab": {
          "base_uri": "https://localhost:8080/"
        },
        "id": "p_4PuvriUwZh",
        "outputId": "b954cc95-9958-4c76-c8e5-8e620cf84a7b"
      },
      "source": [
        "#baixar o arquivo txt com as temperaturas média mensais \n",
        "url = \"https://ndownloader.figshare.com/files/12732467\" \n",
        "filename = \"data/avg-monthly-temp.txt\"\n",
        "urllib.request.urlretrieve(url = url, filename = filename)\n",
        "print('sucesso')"
      ],
      "execution_count": null,
      "outputs": [
        {
          "output_type": "stream",
          "text": [
            "sucesso\n"
          ],
          "name": "stdout"
        }
      ]
    },
    {
      "cell_type": "code",
      "metadata": {
        "colab": {
          "base_uri": "https://localhost:8080/"
        },
        "id": "XDuyOKM5VqED",
        "outputId": "fae5da3d-10c9-430d-e1e8-ebbf36d98b01"
      },
      "source": [
        "#importar o arquivo baixado ara um array NumPy\n",
        "avg_monthly_temp = np.loadtxt(fname = \"data/avg-monthly-temp.txt\")\n",
        "avg_monthly_temp"
      ],
      "execution_count": null,
      "outputs": [
        {
          "output_type": "execute_result",
          "data": {
            "text/plain": [
              "array([ 0.  ,  2.  ,  5.  ,  9.56, 14.39, 19.56, 22.78, 21.72, 16.72,\n",
              "       11.61,  4.89,  0.99])"
            ]
          },
          "metadata": {
            "tags": []
          },
          "execution_count": 47
        }
      ]
    },
    {
      "cell_type": "markdown",
      "metadata": {
        "id": "hoQSU4mLWgE0"
      },
      "source": [
        "7) Criar dois array do NumPy através de seleção de valores do array avg_monthly_temp para os meses de:\n",
        "  1. Mar, Apr, May\n",
        "  2. Sept, Oct, Nov\n",
        "\n",
        "Depois extrair as médias dos valores para os dois arrays usando a função mean() do NumPy. \n",
        "\n"
      ]
    },
    {
      "cell_type": "code",
      "metadata": {
        "colab": {
          "base_uri": "https://localhost:8080/"
        },
        "id": "g2cYqdNraMip",
        "outputId": "f6a2952f-2017-4e1d-92b6-d9ad77c5feaa"
      },
      "source": [
        "#Criar os arrays com as temperaturas médias para primavera e outono em Boulder, CO, utilizando o NumPy\n",
        "primavera = avg_monthly_temp[2:5]\n",
        "outono = avg_monthly_temp[8:11]\n",
        "print(primavera)\n",
        "print(outono)"
      ],
      "execution_count": null,
      "outputs": [
        {
          "output_type": "stream",
          "text": [
            "[ 5.    9.56 14.39]\n",
            "[16.72 11.61  4.89]\n"
          ],
          "name": "stdout"
        }
      ]
    },
    {
      "cell_type": "code",
      "metadata": {
        "colab": {
          "base_uri": "https://localhost:8080/"
        },
        "id": "biQXQ8gnbmeV",
        "outputId": "e42cde6a-4892-4465-94d8-80be4270a27c"
      },
      "source": [
        "#calcular a média dos valores de temperatura dos dois períodos\n",
        "primean = np.mean(primavera)\n",
        "outmean = np.mean(outono)\n",
        "print('A média das temperaturas durante os meses da primavera é', primean,'graus celsius')\n",
        "print('A média das temperaturas durante os meses do outono é', outmean,'graus celsius')"
      ],
      "execution_count": null,
      "outputs": [
        {
          "output_type": "stream",
          "text": [
            "A média das temperaturas durante os meses da primavera é 9.65 graus celsius\n",
            "A média das temperaturas durante os meses do outono é 11.073333333333332 graus celsius\n"
          ],
          "name": "stdout"
        }
      ]
    },
    {
      "cell_type": "markdown",
      "metadata": {
        "id": "MhGhhkQfdYeu"
      },
      "source": [
        "8) Criar manualmente dataframes de Pandas com as temperaturas médias mensais de Boulder, CO"
      ]
    },
    {
      "cell_type": "code",
      "metadata": {
        "colab": {
          "base_uri": "https://localhost:8080/",
          "height": 421
        },
        "id": "wD8ASiAjeHLN",
        "outputId": "a07433b8-2441-4b80-98c4-85662afec17a"
      },
      "source": [
        "# criar manualmente um dataframe do pandas com as temperaturas médias mensais para Boulder, CO\n",
        "tempmed = pd.DataFrame( columns=[\"months\", \"temp\"], data=[[\"January\", 0.00], [\"February\", 2.00], [\"March\", 5.00], [\"April\", 9.56], [\"May\", 14.39], [\"June\", 19.56], [\"July\", 22.78], [\"August\", 21.72], [\"September\", 16.72], [\"October\", 11.61], [\"November\", 4.89], [\"December\", 0.99]] )\n",
        "tempmed"
      ],
      "execution_count": null,
      "outputs": [
        {
          "output_type": "execute_result",
          "data": {
            "text/html": [
              "<div>\n",
              "<style scoped>\n",
              "    .dataframe tbody tr th:only-of-type {\n",
              "        vertical-align: middle;\n",
              "    }\n",
              "\n",
              "    .dataframe tbody tr th {\n",
              "        vertical-align: top;\n",
              "    }\n",
              "\n",
              "    .dataframe thead th {\n",
              "        text-align: right;\n",
              "    }\n",
              "</style>\n",
              "<table border=\"1\" class=\"dataframe\">\n",
              "  <thead>\n",
              "    <tr style=\"text-align: right;\">\n",
              "      <th></th>\n",
              "      <th>months</th>\n",
              "      <th>temp</th>\n",
              "    </tr>\n",
              "  </thead>\n",
              "  <tbody>\n",
              "    <tr>\n",
              "      <th>0</th>\n",
              "      <td>January</td>\n",
              "      <td>0.00</td>\n",
              "    </tr>\n",
              "    <tr>\n",
              "      <th>1</th>\n",
              "      <td>February</td>\n",
              "      <td>2.00</td>\n",
              "    </tr>\n",
              "    <tr>\n",
              "      <th>2</th>\n",
              "      <td>March</td>\n",
              "      <td>5.00</td>\n",
              "    </tr>\n",
              "    <tr>\n",
              "      <th>3</th>\n",
              "      <td>April</td>\n",
              "      <td>9.56</td>\n",
              "    </tr>\n",
              "    <tr>\n",
              "      <th>4</th>\n",
              "      <td>May</td>\n",
              "      <td>14.39</td>\n",
              "    </tr>\n",
              "    <tr>\n",
              "      <th>5</th>\n",
              "      <td>June</td>\n",
              "      <td>19.56</td>\n",
              "    </tr>\n",
              "    <tr>\n",
              "      <th>6</th>\n",
              "      <td>July</td>\n",
              "      <td>22.78</td>\n",
              "    </tr>\n",
              "    <tr>\n",
              "      <th>7</th>\n",
              "      <td>August</td>\n",
              "      <td>21.72</td>\n",
              "    </tr>\n",
              "    <tr>\n",
              "      <th>8</th>\n",
              "      <td>September</td>\n",
              "      <td>16.72</td>\n",
              "    </tr>\n",
              "    <tr>\n",
              "      <th>9</th>\n",
              "      <td>October</td>\n",
              "      <td>11.61</td>\n",
              "    </tr>\n",
              "    <tr>\n",
              "      <th>10</th>\n",
              "      <td>November</td>\n",
              "      <td>4.89</td>\n",
              "    </tr>\n",
              "    <tr>\n",
              "      <th>11</th>\n",
              "      <td>December</td>\n",
              "      <td>0.99</td>\n",
              "    </tr>\n",
              "  </tbody>\n",
              "</table>\n",
              "</div>"
            ],
            "text/plain": [
              "       months   temp\n",
              "0     January   0.00\n",
              "1    February   2.00\n",
              "2       March   5.00\n",
              "3       April   9.56\n",
              "4         May  14.39\n",
              "5        June  19.56\n",
              "6        July  22.78\n",
              "7      August  21.72\n",
              "8   September  16.72\n",
              "9     October  11.61\n",
              "10   November   4.89\n",
              "11   December   0.99"
            ]
          },
          "metadata": {
            "tags": []
          },
          "execution_count": 56
        }
      ]
    },
    {
      "cell_type": "markdown",
      "metadata": {
        "id": "MA-dVtdDgioA"
      },
      "source": [
        "9) Fazer o download do arquivo csv avg-temp-months-seasons.csv, https://ndownloader.figshare.com/files/12739457, utilizando o módulo urllib.request. As etapas a serem seguidas são:\n",
        "\n",
        "1. verificar qual o diretório de trabalho.\n",
        "1. se ainda não for o /content, definí-lo como tal\n",
        "1. verificar a exitencia do diretório /data em /content\n",
        "1. baixar o arquivo para /data\n",
        "1. Ler o arquivo com a função read_csv() do pandas"
      ]
    },
    {
      "cell_type": "code",
      "metadata": {
        "colab": {
          "base_uri": "https://localhost:8080/",
          "height": 35
        },
        "id": "T7WMFZxIisah",
        "outputId": "3823717d-c466-4d4e-be57-55380198bb22"
      },
      "source": [
        "#verificar o diretório de trabalho\n",
        "os.getcwd()"
      ],
      "execution_count": null,
      "outputs": [
        {
          "output_type": "execute_result",
          "data": {
            "application/vnd.google.colaboratory.intrinsic+json": {
              "type": "string"
            },
            "text/plain": [
              "'/content'"
            ]
          },
          "metadata": {
            "tags": []
          },
          "execution_count": 5
        }
      ]
    },
    {
      "cell_type": "code",
      "metadata": {
        "colab": {
          "base_uri": "https://localhost:8080/",
          "height": 35
        },
        "id": "5_3sbzKcjc1d",
        "outputId": "87f57dda-8fda-40da-87d9-d991e3c524a6"
      },
      "source": [
        "#verificar a existencia de /data em /content\n",
        "os.chdir('/content/data')\n",
        "os.getcwd()"
      ],
      "execution_count": null,
      "outputs": [
        {
          "output_type": "execute_result",
          "data": {
            "application/vnd.google.colaboratory.intrinsic+json": {
              "type": "string"
            },
            "text/plain": [
              "'/content/data'"
            ]
          },
          "metadata": {
            "tags": []
          },
          "execution_count": 9
        }
      ]
    },
    {
      "cell_type": "code",
      "metadata": {
        "colab": {
          "base_uri": "https://localhost:8080/",
          "height": 35
        },
        "id": "0nq583RVkFbz",
        "outputId": "f3ce2dd3-5435-4bf4-f566-6004dd0caa46"
      },
      "source": [
        "#voltar para o diretorio de trabalho\n",
        "os.chdir('/content')\n",
        "os.getcwd()"
      ],
      "execution_count": null,
      "outputs": [
        {
          "output_type": "execute_result",
          "data": {
            "application/vnd.google.colaboratory.intrinsic+json": {
              "type": "string"
            },
            "text/plain": [
              "'/content'"
            ]
          },
          "metadata": {
            "tags": []
          },
          "execution_count": 10
        }
      ]
    },
    {
      "cell_type": "code",
      "metadata": {
        "colab": {
          "base_uri": "https://localhost:8080/"
        },
        "id": "_PbstGIMkW-o",
        "outputId": "8b6f7022-6d44-4185-e902-1e9691016e7e"
      },
      "source": [
        "#baixar o arquivo csv com as temperaturas média mensais \n",
        "urllib.request.urlretrieve(url = \"https://ndownloader.figshare.com/files/12739457\", \n",
        "                           filename = \"data/avg-temp-months-seasons.csv\")\n",
        "print('sucesso')"
      ],
      "execution_count": null,
      "outputs": [
        {
          "output_type": "stream",
          "text": [
            "sucesso\n"
          ],
          "name": "stdout"
        }
      ]
    },
    {
      "cell_type": "code",
      "metadata": {
        "id": "tl8OcD7XlBpO"
      },
      "source": [
        "#importar o arquivo baixado ara um dataframe Pandas\n",
        "avg_seasons = pd.read_csv('data/avg-temp-months-seasons.csv')\n",
        "avg_seasons"
      ],
      "execution_count": null,
      "outputs": []
    },
    {
      "cell_type": "markdown",
      "metadata": {
        "id": "P9hb1yXbmEyR"
      },
      "source": [
        "10) Selecionar os dados para cada estação, colocar-los em um dataframe do pandas e extrair as estatísticas de temperaturas médias para cada uma das estações do ano em Boulder, CO:\n"
      ]
    },
    {
      "cell_type": "code",
      "metadata": {
        "colab": {
          "base_uri": "https://localhost:8080/",
          "height": 297
        },
        "id": "kCptkWgqnLme",
        "outputId": "001028f9-aec5-4192-f5dd-766d073dd804"
      },
      "source": [
        "#criar dataframe pandas para o verão e extrair as estatísticas\n",
        "avg_summer = avg_seasons[avg_seasons.seasons == 'Summer']\n",
        "avg_summer.describe()\n"
      ],
      "execution_count": null,
      "outputs": [
        {
          "output_type": "execute_result",
          "data": {
            "text/html": [
              "<div>\n",
              "<style scoped>\n",
              "    .dataframe tbody tr th:only-of-type {\n",
              "        vertical-align: middle;\n",
              "    }\n",
              "\n",
              "    .dataframe tbody tr th {\n",
              "        vertical-align: top;\n",
              "    }\n",
              "\n",
              "    .dataframe thead th {\n",
              "        text-align: right;\n",
              "    }\n",
              "</style>\n",
              "<table border=\"1\" class=\"dataframe\">\n",
              "  <thead>\n",
              "    <tr style=\"text-align: right;\">\n",
              "      <th></th>\n",
              "      <th>temp</th>\n",
              "    </tr>\n",
              "  </thead>\n",
              "  <tbody>\n",
              "    <tr>\n",
              "      <th>count</th>\n",
              "      <td>3.000000</td>\n",
              "    </tr>\n",
              "    <tr>\n",
              "      <th>mean</th>\n",
              "      <td>21.353333</td>\n",
              "    </tr>\n",
              "    <tr>\n",
              "      <th>std</th>\n",
              "      <td>1.641016</td>\n",
              "    </tr>\n",
              "    <tr>\n",
              "      <th>min</th>\n",
              "      <td>19.560000</td>\n",
              "    </tr>\n",
              "    <tr>\n",
              "      <th>25%</th>\n",
              "      <td>20.640000</td>\n",
              "    </tr>\n",
              "    <tr>\n",
              "      <th>50%</th>\n",
              "      <td>21.720000</td>\n",
              "    </tr>\n",
              "    <tr>\n",
              "      <th>75%</th>\n",
              "      <td>22.250000</td>\n",
              "    </tr>\n",
              "    <tr>\n",
              "      <th>max</th>\n",
              "      <td>22.780000</td>\n",
              "    </tr>\n",
              "  </tbody>\n",
              "</table>\n",
              "</div>"
            ],
            "text/plain": [
              "            temp\n",
              "count   3.000000\n",
              "mean   21.353333\n",
              "std     1.641016\n",
              "min    19.560000\n",
              "25%    20.640000\n",
              "50%    21.720000\n",
              "75%    22.250000\n",
              "max    22.780000"
            ]
          },
          "metadata": {
            "tags": []
          },
          "execution_count": 81
        }
      ]
    },
    {
      "cell_type": "code",
      "metadata": {
        "colab": {
          "base_uri": "https://localhost:8080/",
          "height": 297
        },
        "id": "iIG0kkzFntYj",
        "outputId": "fb206797-e095-43e3-b7a1-f09c0ddfe3cd"
      },
      "source": [
        "#criar dataframe pandas para o outono e extrair as estatísticas\n",
        "avg_fall = avg_seasons[avg_seasons.seasons == 'Fall']\n",
        "avg_fall.describe()"
      ],
      "execution_count": null,
      "outputs": [
        {
          "output_type": "execute_result",
          "data": {
            "text/html": [
              "<div>\n",
              "<style scoped>\n",
              "    .dataframe tbody tr th:only-of-type {\n",
              "        vertical-align: middle;\n",
              "    }\n",
              "\n",
              "    .dataframe tbody tr th {\n",
              "        vertical-align: top;\n",
              "    }\n",
              "\n",
              "    .dataframe thead th {\n",
              "        text-align: right;\n",
              "    }\n",
              "</style>\n",
              "<table border=\"1\" class=\"dataframe\">\n",
              "  <thead>\n",
              "    <tr style=\"text-align: right;\">\n",
              "      <th></th>\n",
              "      <th>temp</th>\n",
              "    </tr>\n",
              "  </thead>\n",
              "  <tbody>\n",
              "    <tr>\n",
              "      <th>count</th>\n",
              "      <td>3.000000</td>\n",
              "    </tr>\n",
              "    <tr>\n",
              "      <th>mean</th>\n",
              "      <td>11.073333</td>\n",
              "    </tr>\n",
              "    <tr>\n",
              "      <th>std</th>\n",
              "      <td>5.933231</td>\n",
              "    </tr>\n",
              "    <tr>\n",
              "      <th>min</th>\n",
              "      <td>4.890000</td>\n",
              "    </tr>\n",
              "    <tr>\n",
              "      <th>25%</th>\n",
              "      <td>8.250000</td>\n",
              "    </tr>\n",
              "    <tr>\n",
              "      <th>50%</th>\n",
              "      <td>11.610000</td>\n",
              "    </tr>\n",
              "    <tr>\n",
              "      <th>75%</th>\n",
              "      <td>14.165000</td>\n",
              "    </tr>\n",
              "    <tr>\n",
              "      <th>max</th>\n",
              "      <td>16.720000</td>\n",
              "    </tr>\n",
              "  </tbody>\n",
              "</table>\n",
              "</div>"
            ],
            "text/plain": [
              "            temp\n",
              "count   3.000000\n",
              "mean   11.073333\n",
              "std     5.933231\n",
              "min     4.890000\n",
              "25%     8.250000\n",
              "50%    11.610000\n",
              "75%    14.165000\n",
              "max    16.720000"
            ]
          },
          "metadata": {
            "tags": []
          },
          "execution_count": 82
        }
      ]
    },
    {
      "cell_type": "code",
      "metadata": {
        "colab": {
          "base_uri": "https://localhost:8080/",
          "height": 297
        },
        "id": "8vhtkgLhoB0-",
        "outputId": "1c3cc959-2bc9-44c6-c0dd-1fc585d9e41f"
      },
      "source": [
        "#criar dataframe pandas para o inverno e extrair as estatísticas\n",
        "avg_winter = avg_seasons[avg_seasons.seasons == 'Winter']\n",
        "avg_winter.describe()"
      ],
      "execution_count": null,
      "outputs": [
        {
          "output_type": "execute_result",
          "data": {
            "text/html": [
              "<div>\n",
              "<style scoped>\n",
              "    .dataframe tbody tr th:only-of-type {\n",
              "        vertical-align: middle;\n",
              "    }\n",
              "\n",
              "    .dataframe tbody tr th {\n",
              "        vertical-align: top;\n",
              "    }\n",
              "\n",
              "    .dataframe thead th {\n",
              "        text-align: right;\n",
              "    }\n",
              "</style>\n",
              "<table border=\"1\" class=\"dataframe\">\n",
              "  <thead>\n",
              "    <tr style=\"text-align: right;\">\n",
              "      <th></th>\n",
              "      <th>temp</th>\n",
              "    </tr>\n",
              "  </thead>\n",
              "  <tbody>\n",
              "    <tr>\n",
              "      <th>count</th>\n",
              "      <td>3.000000</td>\n",
              "    </tr>\n",
              "    <tr>\n",
              "      <th>mean</th>\n",
              "      <td>0.996667</td>\n",
              "    </tr>\n",
              "    <tr>\n",
              "      <th>std</th>\n",
              "      <td>1.000017</td>\n",
              "    </tr>\n",
              "    <tr>\n",
              "      <th>min</th>\n",
              "      <td>0.000000</td>\n",
              "    </tr>\n",
              "    <tr>\n",
              "      <th>25%</th>\n",
              "      <td>0.495000</td>\n",
              "    </tr>\n",
              "    <tr>\n",
              "      <th>50%</th>\n",
              "      <td>0.990000</td>\n",
              "    </tr>\n",
              "    <tr>\n",
              "      <th>75%</th>\n",
              "      <td>1.495000</td>\n",
              "    </tr>\n",
              "    <tr>\n",
              "      <th>max</th>\n",
              "      <td>2.000000</td>\n",
              "    </tr>\n",
              "  </tbody>\n",
              "</table>\n",
              "</div>"
            ],
            "text/plain": [
              "           temp\n",
              "count  3.000000\n",
              "mean   0.996667\n",
              "std    1.000017\n",
              "min    0.000000\n",
              "25%    0.495000\n",
              "50%    0.990000\n",
              "75%    1.495000\n",
              "max    2.000000"
            ]
          },
          "metadata": {
            "tags": []
          },
          "execution_count": 83
        }
      ]
    },
    {
      "cell_type": "code",
      "metadata": {
        "colab": {
          "base_uri": "https://localhost:8080/",
          "height": 297
        },
        "id": "wuFjEaM2oT9j",
        "outputId": "deb90c8a-cb8c-46e1-82e2-ce4c982b87a3"
      },
      "source": [
        "#criar dataframe pandas para a primavera e extrair as estatísticas\n",
        "avg_spring = avg_seasons[avg_seasons.seasons == 'Spring']\n",
        "avg_spring.describe()"
      ],
      "execution_count": null,
      "outputs": [
        {
          "output_type": "execute_result",
          "data": {
            "text/html": [
              "<div>\n",
              "<style scoped>\n",
              "    .dataframe tbody tr th:only-of-type {\n",
              "        vertical-align: middle;\n",
              "    }\n",
              "\n",
              "    .dataframe tbody tr th {\n",
              "        vertical-align: top;\n",
              "    }\n",
              "\n",
              "    .dataframe thead th {\n",
              "        text-align: right;\n",
              "    }\n",
              "</style>\n",
              "<table border=\"1\" class=\"dataframe\">\n",
              "  <thead>\n",
              "    <tr style=\"text-align: right;\">\n",
              "      <th></th>\n",
              "      <th>temp</th>\n",
              "    </tr>\n",
              "  </thead>\n",
              "  <tbody>\n",
              "    <tr>\n",
              "      <th>count</th>\n",
              "      <td>3.000000</td>\n",
              "    </tr>\n",
              "    <tr>\n",
              "      <th>mean</th>\n",
              "      <td>9.650000</td>\n",
              "    </tr>\n",
              "    <tr>\n",
              "      <th>std</th>\n",
              "      <td>4.695647</td>\n",
              "    </tr>\n",
              "    <tr>\n",
              "      <th>min</th>\n",
              "      <td>5.000000</td>\n",
              "    </tr>\n",
              "    <tr>\n",
              "      <th>25%</th>\n",
              "      <td>7.280000</td>\n",
              "    </tr>\n",
              "    <tr>\n",
              "      <th>50%</th>\n",
              "      <td>9.560000</td>\n",
              "    </tr>\n",
              "    <tr>\n",
              "      <th>75%</th>\n",
              "      <td>11.975000</td>\n",
              "    </tr>\n",
              "    <tr>\n",
              "      <th>max</th>\n",
              "      <td>14.390000</td>\n",
              "    </tr>\n",
              "  </tbody>\n",
              "</table>\n",
              "</div>"
            ],
            "text/plain": [
              "            temp\n",
              "count   3.000000\n",
              "mean    9.650000\n",
              "std     4.695647\n",
              "min     5.000000\n",
              "25%     7.280000\n",
              "50%     9.560000\n",
              "75%    11.975000\n",
              "max    14.390000"
            ]
          },
          "metadata": {
            "tags": []
          },
          "execution_count": 84
        }
      ]
    },
    {
      "cell_type": "markdown",
      "metadata": {
        "id": "tXcIcEFIpVxH"
      },
      "source": [
        "11) Criar manualmente um dataframe com Pandas com as médias das temperaturas médias de cada estação, com duas colunas, uma para o nome e a outra para os valores das médias.\n",
        "Para isso, crio primeiro séries com os pares (nome, média) para cada estação e depois as coloco no dataframe.\n",
        "Com o Dataframe pronto, criar um gráfico estação x media utilizando as funções do PyPlot do MatPlotLib. "
      ]
    },
    {
      "cell_type": "code",
      "metadata": {
        "colab": {
          "base_uri": "https://localhost:8080/",
          "height": 173
        },
        "id": "deiHFrPWsmOS",
        "outputId": "3605739c-090f-429e-c1bd-deddf1502253"
      },
      "source": [
        "# criar séries com nome e média de cada estação\n",
        "mean_spring = pd.Series({'estacao':'spring','temp_med': 9.650000})\n",
        "mean_winter = pd.Series({'estacao':'winter','temp_med': 0.9966671})\n",
        "mean_fall = pd.Series({'estacao':'fall','temp_med': 11.073333})\n",
        "mean_summer = pd.Series({'estacao':'summer','temp_med': 21.353333})\n",
        "\n",
        "# criar o dataframe popoulando-o com as séries\n",
        "mean_seasons = pd.DataFrame([mean_spring,mean_winter,mean_fall,mean_summer])\n",
        "mean_seasons"
      ],
      "execution_count": null,
      "outputs": [
        {
          "output_type": "execute_result",
          "data": {
            "text/html": [
              "<div>\n",
              "<style scoped>\n",
              "    .dataframe tbody tr th:only-of-type {\n",
              "        vertical-align: middle;\n",
              "    }\n",
              "\n",
              "    .dataframe tbody tr th {\n",
              "        vertical-align: top;\n",
              "    }\n",
              "\n",
              "    .dataframe thead th {\n",
              "        text-align: right;\n",
              "    }\n",
              "</style>\n",
              "<table border=\"1\" class=\"dataframe\">\n",
              "  <thead>\n",
              "    <tr style=\"text-align: right;\">\n",
              "      <th></th>\n",
              "      <th>estacao</th>\n",
              "      <th>temp_med</th>\n",
              "    </tr>\n",
              "  </thead>\n",
              "  <tbody>\n",
              "    <tr>\n",
              "      <th>0</th>\n",
              "      <td>spring</td>\n",
              "      <td>9.650000</td>\n",
              "    </tr>\n",
              "    <tr>\n",
              "      <th>1</th>\n",
              "      <td>winter</td>\n",
              "      <td>0.996667</td>\n",
              "    </tr>\n",
              "    <tr>\n",
              "      <th>2</th>\n",
              "      <td>fall</td>\n",
              "      <td>11.073333</td>\n",
              "    </tr>\n",
              "    <tr>\n",
              "      <th>3</th>\n",
              "      <td>summer</td>\n",
              "      <td>21.353333</td>\n",
              "    </tr>\n",
              "  </tbody>\n",
              "</table>\n",
              "</div>"
            ],
            "text/plain": [
              "  estacao   temp_med\n",
              "0  spring   9.650000\n",
              "1  winter   0.996667\n",
              "2    fall  11.073333\n",
              "3  summer  21.353333"
            ]
          },
          "metadata": {
            "tags": []
          },
          "execution_count": 127
        }
      ]
    },
    {
      "cell_type": "code",
      "metadata": {
        "colab": {
          "base_uri": "https://localhost:8080/",
          "height": 530
        },
        "id": "HduxpODPwPD6",
        "outputId": "c39c68fa-e515-48c8-f6a6-8fed18a8e5f5"
      },
      "source": [
        "# definir o tamanho do gráfico\n",
        "plt.rcParams[\"figure.figsize\"] = (8, 8)\n",
        "\n",
        "# criar o espaço de plotagem\n",
        "fig, ax = plt.subplots()\n",
        "\n",
        "# adicionar os eixos x e y ao gráfico\n",
        "ax.bar(mean_seasons.estacao, mean_seasons.temp_med, color = 'red')\n",
        "\n",
        "# definir o título do gráfico\n",
        "ax.set(title = 'Temperatura sazonal media em Boulder, CO')\n",
        "\n",
        "# adicionar título dos eixos\n",
        "ax.set( xlabel = 'Estacao', ylabel = 'Temperatura oC')"
      ],
      "execution_count": null,
      "outputs": [
        {
          "output_type": "execute_result",
          "data": {
            "text/plain": [
              "[Text(0, 0.5, 'Temperatura oC'), Text(0.5, 0, 'Estacao')]"
            ]
          },
          "metadata": {
            "tags": []
          },
          "execution_count": 128
        },
        {
          "output_type": "display_data",
          "data": {
            "image/png": "[encoded data removed]",
            "text/plain": [
              "<Figure size 576x576 with 1 Axes>"
            ]
          },
          "metadata": {
            "tags": [],
            "needs_background": "light"
          }
        }
      ]
    },
    {
      "cell_type": "markdown",
      "metadata": {
        "id": "GHg5YspAUBzn"
      },
      "source": [
        "12) Calcular manualmente a temperatura média das temperaturas no arquivo avg-temp-months-seasons.csv.\n",
        "Usar um loop \"for\" para iterar todos os meses.\n",
        "As etapas a serem realizadas são:\n",
        "1. Criar uma lista para iteração a partir do dataframe \"avg_seasons\" criado com os dados de avg-temp-months-seasons.csv;\n",
        "1. inicializar duas variáveis:\n",
        "      - variável soma, para somar os valores da lista\n",
        "      - variável meses, para somar quantos valores unitários, um por mês, foram lidos na lista;\n",
        "1. Ao final do loop, imprimir a divisão de soma por meses."
      ]
    },
    {
      "cell_type": "code",
      "metadata": {
        "colab": {
          "base_uri": "https://localhost:8080/"
        },
        "id": "1RMBUbP4T32s",
        "outputId": "b03f7ae4-248d-430b-d9e8-5b0915128b3b"
      },
      "source": [
        "#criar lista para iteração\n",
        "tempcol = avg_seasons['temp']\n",
        "\n",
        "#inicializa as variáveis que vão ser utilizadas no cálcula da média ao final do loop\n",
        "soma = 0\n",
        "meses = 0\n",
        "\n",
        "#definir o loop, usando for, que vai ler os valores individuais no dataset e adicioná-los à variável soma e \n",
        "#adicionar uma unidade ao valor meses\n",
        "for i in tempcol:\n",
        "  soma += i\n",
        "  meses += 1\n",
        "\n",
        "#imprimir o valor final das variáveis soma e meses, e o valor do cálculo da média\n",
        "print('a soma das', meses,'temperaturas é', soma,'e a média das temperaturas médias mensais em Boulder, CO, é', soma/meses, 'oC')\n",
        "\n"
      ],
      "execution_count": null,
      "outputs": [
        {
          "output_type": "stream",
          "text": [
            "a soma das 12 temperaturas é 129.22 e a média das temperaturas médias mensais em Boulder, CO, é 10.768333333333333 oC\n"
          ],
          "name": "stdout"
        }
      ]
    },
    {
      "cell_type": "markdown",
      "metadata": {
        "id": "lGTKT89bavlB"
      },
      "source": [
        "13) Calcular manualmente a média das temperaturas em cada estação do ano a partir dos dados em avg-temp-months-seasons.csv.\n",
        "Utilizar métodos do Pandas e criar um loop for que gere as médias sazonais separadamente.\n",
        "As etapas a serem realizadas são:\n",
        "\n",
        "1. Criar um dataframe, a partir de avg_seasons ( dataframe Pandas criado a partir da importação do arquivo csv original)contendo apenas as colunas:\n",
        "  * temp\n",
        "  * seasons\n",
        "1. Alterar o índice do dataframe para que ele passe a ser referenciado às estações do ano\n",
        "1. Criar uma lista para seleção da estação do ano que será referenciada durante o loop for\n",
        "1. Criar o loop \"for\", calculando e imprimindo a média das temperaturas médias para cada estação."
      ]
    },
    {
      "cell_type": "code",
      "metadata": {
        "colab": {
          "base_uri": "https://localhost:8080/",
          "height": 421
        },
        "id": "c3aikDgg48qM",
        "outputId": "e646897f-2877-4b7e-fb89-1b6af2fdd8cb"
      },
      "source": [
        "# criar o dataframe com temp e seasons apenas\n",
        "tempseason = avg_seasons[['temp','seasons']]\n",
        "tempseason"
      ],
      "execution_count": null,
      "outputs": [
        {
          "output_type": "execute_result",
          "data": {
            "text/html": [
              "<div>\n",
              "<style scoped>\n",
              "    .dataframe tbody tr th:only-of-type {\n",
              "        vertical-align: middle;\n",
              "    }\n",
              "\n",
              "    .dataframe tbody tr th {\n",
              "        vertical-align: top;\n",
              "    }\n",
              "\n",
              "    .dataframe thead th {\n",
              "        text-align: right;\n",
              "    }\n",
              "</style>\n",
              "<table border=\"1\" class=\"dataframe\">\n",
              "  <thead>\n",
              "    <tr style=\"text-align: right;\">\n",
              "      <th></th>\n",
              "      <th>temp</th>\n",
              "      <th>seasons</th>\n",
              "    </tr>\n",
              "  </thead>\n",
              "  <tbody>\n",
              "    <tr>\n",
              "      <th>0</th>\n",
              "      <td>0.00</td>\n",
              "      <td>Winter</td>\n",
              "    </tr>\n",
              "    <tr>\n",
              "      <th>1</th>\n",
              "      <td>2.00</td>\n",
              "      <td>Winter</td>\n",
              "    </tr>\n",
              "    <tr>\n",
              "      <th>2</th>\n",
              "      <td>5.00</td>\n",
              "      <td>Spring</td>\n",
              "    </tr>\n",
              "    <tr>\n",
              "      <th>3</th>\n",
              "      <td>9.56</td>\n",
              "      <td>Spring</td>\n",
              "    </tr>\n",
              "    <tr>\n",
              "      <th>4</th>\n",
              "      <td>14.39</td>\n",
              "      <td>Spring</td>\n",
              "    </tr>\n",
              "    <tr>\n",
              "      <th>5</th>\n",
              "      <td>19.56</td>\n",
              "      <td>Summer</td>\n",
              "    </tr>\n",
              "    <tr>\n",
              "      <th>6</th>\n",
              "      <td>22.78</td>\n",
              "      <td>Summer</td>\n",
              "    </tr>\n",
              "    <tr>\n",
              "      <th>7</th>\n",
              "      <td>21.72</td>\n",
              "      <td>Summer</td>\n",
              "    </tr>\n",
              "    <tr>\n",
              "      <th>8</th>\n",
              "      <td>16.72</td>\n",
              "      <td>Fall</td>\n",
              "    </tr>\n",
              "    <tr>\n",
              "      <th>9</th>\n",
              "      <td>11.61</td>\n",
              "      <td>Fall</td>\n",
              "    </tr>\n",
              "    <tr>\n",
              "      <th>10</th>\n",
              "      <td>4.89</td>\n",
              "      <td>Fall</td>\n",
              "    </tr>\n",
              "    <tr>\n",
              "      <th>11</th>\n",
              "      <td>0.99</td>\n",
              "      <td>Winter</td>\n",
              "    </tr>\n",
              "  </tbody>\n",
              "</table>\n",
              "</div>"
            ],
            "text/plain": [
              "     temp seasons\n",
              "0    0.00  Winter\n",
              "1    2.00  Winter\n",
              "2    5.00  Spring\n",
              "3    9.56  Spring\n",
              "4   14.39  Spring\n",
              "5   19.56  Summer\n",
              "6   22.78  Summer\n",
              "7   21.72  Summer\n",
              "8   16.72    Fall\n",
              "9   11.61    Fall\n",
              "10   4.89    Fall\n",
              "11   0.99  Winter"
            ]
          },
          "metadata": {
            "tags": []
          },
          "execution_count": 186
        }
      ]
    },
    {
      "cell_type": "code",
      "metadata": {
        "colab": {
          "base_uri": "https://localhost:8080/"
        },
        "id": "qTizYsoHFdpQ",
        "outputId": "50999870-6c4e-41cf-9db9-37947611ceec"
      },
      "source": [
        "#alterar o indice para que ele use a lista de valores em seasons\n",
        "tempseason2 = tempseason.set_index('seasons')\n",
        "\n",
        "#criar a lista para a selção da estação durante o loop\n",
        "seasonslist = ['Winter', 'Spring', 'Summer', 'Fall']\n",
        "\n",
        "#criar o loop que seleciona a estação em cada passagem, calcula a média da temperatura sazonal e \n",
        "#imprime o resultado\n",
        "for i in seasonslist:\n",
        "  a = tempseason2.loc[[i]].mean()\n",
        "  print ('a média das temperaturas médias para a estação', i,'é', a,'graus Celsius')"
      ],
      "execution_count": null,
      "outputs": [
        {
          "output_type": "stream",
          "text": [
            "a média das temperaturas médias para a estação Winter é temp    0.996667\n",
            "dtype: float64 graus Celsius\n",
            "a média das temperaturas médias para a estação Spring é temp    9.65\n",
            "dtype: float64 graus Celsius\n",
            "a média das temperaturas médias para a estação Summer é temp    21.353333\n",
            "dtype: float64 graus Celsius\n",
            "a média das temperaturas médias para a estação Fall é temp    11.073333\n",
            "dtype: float64 graus Celsius\n"
          ],
          "name": "stdout"
        }
      ]
    }
  ]
}